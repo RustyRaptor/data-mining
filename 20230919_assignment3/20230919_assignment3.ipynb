{
 "cells": [
  {
   "cell_type": "code",
   "execution_count": 20,
   "metadata": {},
   "outputs": [
    {
     "name": "stdout",
     "output_type": "stream",
     "text": [
      "\u001b[33mWARNING: Ignoring invalid distribution -cikit-learn (/home/ugrad10/zarafat/src/data-mining/.venv/lib/python3.10/site-packages)\u001b[0m\u001b[33m\n",
      "\u001b[0mRequirement already satisfied: pandas in /home/ugrad10/zarafat/src/data-mining/.venv/lib/python3.10/site-packages (2.1.0)\n",
      "Requirement already satisfied: numpy in /home/ugrad10/zarafat/src/data-mining/.venv/lib/python3.10/site-packages (1.26.0)\n",
      "Requirement already satisfied: matplotlib in /home/ugrad10/zarafat/src/data-mining/.venv/lib/python3.10/site-packages (3.8.0)\n",
      "Requirement already satisfied: seaborn in /home/ugrad10/zarafat/src/data-mining/.venv/lib/python3.10/site-packages (0.12.2)\n",
      "Requirement already satisfied: scikit-learn==1.2.2 in /home/ugrad10/zarafat/src/data-mining/.venv/lib/python3.10/site-packages (1.2.2)\n",
      "Requirement already satisfied: scipy>=1.3.2 in /home/ugrad10/zarafat/src/data-mining/.venv/lib/python3.10/site-packages (from scikit-learn==1.2.2) (1.11.2)\n",
      "Requirement already satisfied: joblib>=1.1.1 in /home/ugrad10/zarafat/src/data-mining/.venv/lib/python3.10/site-packages (from scikit-learn==1.2.2) (1.3.2)\n",
      "Requirement already satisfied: threadpoolctl>=2.0.0 in /home/ugrad10/zarafat/src/data-mining/.venv/lib/python3.10/site-packages (from scikit-learn==1.2.2) (3.2.0)\n",
      "Requirement already satisfied: python-dateutil>=2.8.2 in /home/ugrad10/zarafat/src/data-mining/.venv/lib/python3.10/site-packages (from pandas) (2.8.2)\n",
      "Requirement already satisfied: pytz>=2020.1 in /home/ugrad10/zarafat/src/data-mining/.venv/lib/python3.10/site-packages (from pandas) (2023.3.post1)\n",
      "Requirement already satisfied: tzdata>=2022.1 in /home/ugrad10/zarafat/src/data-mining/.venv/lib/python3.10/site-packages (from pandas) (2023.3)\n",
      "Requirement already satisfied: contourpy>=1.0.1 in /home/ugrad10/zarafat/src/data-mining/.venv/lib/python3.10/site-packages (from matplotlib) (1.1.1)\n",
      "Requirement already satisfied: cycler>=0.10 in /home/ugrad10/zarafat/src/data-mining/.venv/lib/python3.10/site-packages (from matplotlib) (0.11.0)\n",
      "Requirement already satisfied: fonttools>=4.22.0 in /home/ugrad10/zarafat/src/data-mining/.venv/lib/python3.10/site-packages (from matplotlib) (4.42.1)\n",
      "Requirement already satisfied: kiwisolver>=1.0.1 in /home/ugrad10/zarafat/src/data-mining/.venv/lib/python3.10/site-packages (from matplotlib) (1.4.5)\n",
      "Requirement already satisfied: packaging>=20.0 in /home/ugrad10/zarafat/src/data-mining/.venv/lib/python3.10/site-packages (from matplotlib) (23.1)\n",
      "Requirement already satisfied: pillow>=6.2.0 in /home/ugrad10/zarafat/src/data-mining/.venv/lib/python3.10/site-packages (from matplotlib) (10.0.1)\n",
      "Requirement already satisfied: pyparsing>=2.3.1 in /home/ugrad10/zarafat/src/data-mining/.venv/lib/python3.10/site-packages (from matplotlib) (3.1.1)\n",
      "Requirement already satisfied: six>=1.5 in /home/ugrad10/zarafat/src/data-mining/.venv/lib/python3.10/site-packages (from python-dateutil>=2.8.2->pandas) (1.16.0)\n",
      "\u001b[33mWARNING: Ignoring invalid distribution -cikit-learn (/home/ugrad10/zarafat/src/data-mining/.venv/lib/python3.10/site-packages)\u001b[0m\u001b[33m\n",
      "\u001b[0m"
     ]
    }
   ],
   "source": [
    "!pip install pandas numpy matplotlib seaborn scikit-learn==1.2.2\n",
    "\n",
    "\n",
    "# This is to disable annoying warning messages from sklearn 1.2.2\n",
    "def warn(*args, **kwargs):\n",
    "    pass\n",
    "import warnings\n",
    "warnings.warn = warn"
   ]
  },
  {
   "cell_type": "code",
   "execution_count": 21,
   "metadata": {},
   "outputs": [],
   "source": [
    "import pandas as pd\n",
    "import numpy as np\n",
    "import matplotlib.pyplot as plt "
   ]
  },
  {
   "cell_type": "markdown",
   "metadata": {},
   "source": [
    "# Assignment 2\n",
    "## Ziad Arafat\n",
    "\n",
    "### Reading in the data\n",
    "\n",
    "1. We read in the CSV using the pandas library and store it in a dataframe. \n",
    "2. We print the data in the first two rows using the `head()` method"
   ]
  },
  {
   "cell_type": "code",
   "execution_count": 22,
   "metadata": {},
   "outputs": [
    {
     "name": "stdout",
     "output_type": "stream",
     "text": [
      "   ID  LIMIT_BAL  SEX  EDUCATION  MARRIAGE  AGE  PAY_0  PAY_2  PAY_3  PAY_4  \\\n",
      "0   1      20000    2          2         1   24      2      2     -1     -1   \n",
      "1   2     120000    2          2         2   26     -1      2      0      0   \n",
      "2   3      90000    2          2         2   34      0      0      0      0   \n",
      "3   4      50000    2          2         1   37      0      0      0      0   \n",
      "4   5      50000    1          2         1   57     -1      0     -1      0   \n",
      "\n",
      "   ...  BILL_AMT4  BILL_AMT5  BILL_AMT6  PAY_AMT1  PAY_AMT2  PAY_AMT3  \\\n",
      "0  ...          0          0          0         0       689         0   \n",
      "1  ...       3272       3455       3261         0      1000      1000   \n",
      "2  ...      14331      14948      15549      1518      1500      1000   \n",
      "3  ...      28314      28959      29547      2000      2019      1200   \n",
      "4  ...      20940      19146      19131      2000     36681     10000   \n",
      "\n",
      "   PAY_AMT4  PAY_AMT5  PAY_AMT6  default payment next month  \n",
      "0         0         0         0                           1  \n",
      "1      1000         0      2000                           1  \n",
      "2      1000      1000      5000                           0  \n",
      "3      1100      1069      1000                           0  \n",
      "4      9000       689       679                           0  \n",
      "\n",
      "[5 rows x 25 columns]\n"
     ]
    }
   ],
   "source": [
    "df_default_credit = pd.read_csv(\"Default-of-Credit-Card-Clients.csv\")\n",
    "print(df_default_credit.head(n=5))"
   ]
  },
  {
   "cell_type": "markdown",
   "metadata": {},
   "source": [
    "### 1.\n",
    "#### Train test split using sklearn"
   ]
  },
  {
   "cell_type": "code",
   "execution_count": 23,
   "metadata": {},
   "outputs": [
    {
     "name": "stdout",
     "output_type": "stream",
     "text": [
      "train_features:\n",
      "         ID  LIMIT_BAL  SEX  EDUCATION  MARRIAGE  AGE  PAY_0  PAY_2  PAY_3  \\\n",
      "9248  9249     310000    2          2         2   38     -1     -1     -1   \n",
      "\n",
      "      PAY_4  ...  BILL_AMT3  BILL_AMT4  BILL_AMT5  BILL_AMT6  PAY_AMT1  \\\n",
      "9248     -1  ...       2779       3140       1831       5347      3666   \n",
      "\n",
      "      PAY_AMT2  PAY_AMT3  PAY_AMT4  PAY_AMT5  PAY_AMT6  \n",
      "9248      2787      3140         0      5347      1420  \n",
      "\n",
      "[1 rows x 24 columns]\n",
      "test_features:\n",
      "           ID  LIMIT_BAL  SEX  EDUCATION  MARRIAGE  AGE  PAY_0  PAY_2  PAY_3  \\\n",
      "14786  14787      30000    1          1         2   25      0      0      0   \n",
      "\n",
      "       PAY_4  ...  BILL_AMT3  BILL_AMT4  BILL_AMT5  BILL_AMT6  PAY_AMT1  \\\n",
      "14786      0  ...      21293      22040      22786      23410      1500   \n",
      "\n",
      "       PAY_AMT2  PAY_AMT3  PAY_AMT4  PAY_AMT5  PAY_AMT6  \n",
      "14786      1400      1100      1100      1003      2000  \n",
      "\n",
      "[1 rows x 24 columns]\n",
      "train_labels:\n",
      " 9248     0\n",
      "11078    1\n",
      "9444     0\n",
      "24103    0\n",
      "8        0\n",
      "Name: default payment next month, dtype: int64\n",
      "test_labels:\n",
      " 14786    1\n",
      "8120     0\n",
      "2597     0\n",
      "27290    0\n",
      "5423     0\n",
      "Name: default payment next month, dtype: int64\n"
     ]
    }
   ],
   "source": [
    "from sklearn.model_selection import train_test_split\n",
    "\n",
    "\n",
    "train_features, test_features, train_labels, test_labels = train_test_split(\n",
    "        df_default_credit.drop(columns=['default payment next month']),\n",
    "        df_default_credit['default payment next month'], \n",
    "        test_size=0.2, \n",
    "        random_state=6\n",
    ")\n",
    "\n",
    "print(\"train_features:\\n\", train_features.head(n=1))\n",
    "print(\"test_features:\\n\", test_features.head(n=1))\n",
    "print(\"train_labels:\\n\", train_labels.head(n=5))\n",
    "print(\"test_labels:\\n\", test_labels.head(n=5))\n"
   ]
  },
  {
   "cell_type": "markdown",
   "metadata": {},
   "source": [
    "#### Export to CSV"
   ]
  },
  {
   "cell_type": "code",
   "execution_count": 24,
   "metadata": {},
   "outputs": [],
   "source": [
    "train_combined = pd.concat([train_features, train_labels], axis=1)\n",
    "test_combined = pd.concat([test_features, test_labels], axis=1)\n",
    "\n",
    "train_combined.to_csv('train_data.csv', index=False)\n",
    "test_combined.to_csv('test_data.csv', index=False)\n"
   ]
  },
  {
   "cell_type": "markdown",
   "metadata": {},
   "source": [
    "### 2.\n",
    "\n",
    "#### Decision Tree Classifier\n",
    "##### Training models and saving accuracies\n",
    "1. First we can loop over the depths and fit a model for each depth and save the training and testing accuracy. "
   ]
  },
  {
   "cell_type": "code",
   "execution_count": 25,
   "metadata": {},
   "outputs": [],
   "source": [
    "from sklearn.tree import DecisionTreeClassifier\n",
    "\n",
    "depths = [2, 3, 4, 5, 6, 7, 8, 9, 10, 15, 20, 25]\n",
    "accuracies = []\n",
    "\n",
    "for depth in depths:\n",
    "        \n",
    "        # print(\"depth = \", depth)\n",
    "        decision_tree = DecisionTreeClassifier(\n",
    "                criterion='entropy', random_state=6, max_depth=depth\n",
    "        )\n",
    "        \n",
    "        fitted_model = decision_tree.fit(train_features, train_labels)\n",
    "        \n",
    "        train_accuracy = fitted_model.score(train_features, train_labels)\n",
    "        \n",
    "        test_accuracy = fitted_model.score(test_features, test_labels)\n",
    "        \n",
    "        # print(\"training accuracy: \", training_accuracy)\n",
    "        # print(\"testing accuracy: \", testing_accuracy)\n",
    "        \n",
    "        accuracies.append((train_accuracy, test_accuracy))\n",
    "        \n",
    "\n",
    "        \n",
    "        \n",
    "        "
   ]
  },
  {
   "cell_type": "markdown",
   "metadata": {},
   "source": [
    "##### Processing the accuracy data\n",
    "2. Now we can create a dictionary from the depths and accuracies.\n",
    "3. This allows us to plot it using pandas built in plotting method."
   ]
  },
  {
   "cell_type": "code",
   "execution_count": 26,
   "metadata": {},
   "outputs": [
    {
     "name": "stdout",
     "output_type": "stream",
     "text": [
      "{2: (0.8215416666666666, 0.8145), 3: (0.8237083333333334, 0.8145), 4: (0.8249583333333333, 0.8153333333333334), 5: (0.8257916666666667, 0.8135), 6: (0.8280416666666667, 0.8136666666666666), 7: (0.8314583333333333, 0.8128333333333333), 8: (0.8345, 0.8138333333333333), 9: (0.838625, 0.8118333333333333), 10: (0.8438333333333333, 0.8096666666666666), 15: (0.8905416666666667, 0.7836666666666666), 20: (0.9415, 0.7555), 25: (0.971375, 0.7421666666666666)}\n"
     ]
    },
    {
     "data": {
      "text/html": [
       "<div>\n",
       "<style scoped>\n",
       "    .dataframe tbody tr th:only-of-type {\n",
       "        vertical-align: middle;\n",
       "    }\n",
       "\n",
       "    .dataframe tbody tr th {\n",
       "        vertical-align: top;\n",
       "    }\n",
       "\n",
       "    .dataframe thead th {\n",
       "        text-align: right;\n",
       "    }\n",
       "</style>\n",
       "<table border=\"1\" class=\"dataframe\">\n",
       "  <thead>\n",
       "    <tr style=\"text-align: right;\">\n",
       "      <th></th>\n",
       "      <th>training</th>\n",
       "      <th>testing</th>\n",
       "    </tr>\n",
       "  </thead>\n",
       "  <tbody>\n",
       "    <tr>\n",
       "      <th>2</th>\n",
       "      <td>0.821542</td>\n",
       "      <td>0.814500</td>\n",
       "    </tr>\n",
       "    <tr>\n",
       "      <th>3</th>\n",
       "      <td>0.823708</td>\n",
       "      <td>0.814500</td>\n",
       "    </tr>\n",
       "    <tr>\n",
       "      <th>4</th>\n",
       "      <td>0.824958</td>\n",
       "      <td>0.815333</td>\n",
       "    </tr>\n",
       "    <tr>\n",
       "      <th>5</th>\n",
       "      <td>0.825792</td>\n",
       "      <td>0.813500</td>\n",
       "    </tr>\n",
       "    <tr>\n",
       "      <th>6</th>\n",
       "      <td>0.828042</td>\n",
       "      <td>0.813667</td>\n",
       "    </tr>\n",
       "    <tr>\n",
       "      <th>7</th>\n",
       "      <td>0.831458</td>\n",
       "      <td>0.812833</td>\n",
       "    </tr>\n",
       "    <tr>\n",
       "      <th>8</th>\n",
       "      <td>0.834500</td>\n",
       "      <td>0.813833</td>\n",
       "    </tr>\n",
       "    <tr>\n",
       "      <th>9</th>\n",
       "      <td>0.838625</td>\n",
       "      <td>0.811833</td>\n",
       "    </tr>\n",
       "    <tr>\n",
       "      <th>10</th>\n",
       "      <td>0.843833</td>\n",
       "      <td>0.809667</td>\n",
       "    </tr>\n",
       "    <tr>\n",
       "      <th>15</th>\n",
       "      <td>0.890542</td>\n",
       "      <td>0.783667</td>\n",
       "    </tr>\n",
       "    <tr>\n",
       "      <th>20</th>\n",
       "      <td>0.941500</td>\n",
       "      <td>0.755500</td>\n",
       "    </tr>\n",
       "    <tr>\n",
       "      <th>25</th>\n",
       "      <td>0.971375</td>\n",
       "      <td>0.742167</td>\n",
       "    </tr>\n",
       "  </tbody>\n",
       "</table>\n",
       "</div>"
      ],
      "text/plain": [
       "    training   testing\n",
       "2   0.821542  0.814500\n",
       "3   0.823708  0.814500\n",
       "4   0.824958  0.815333\n",
       "5   0.825792  0.813500\n",
       "6   0.828042  0.813667\n",
       "7   0.831458  0.812833\n",
       "8   0.834500  0.813833\n",
       "9   0.838625  0.811833\n",
       "10  0.843833  0.809667\n",
       "15  0.890542  0.783667\n",
       "20  0.941500  0.755500\n",
       "25  0.971375  0.742167"
      ]
     },
     "execution_count": 26,
     "metadata": {},
     "output_type": "execute_result"
    }
   ],
   "source": [
    "accuracy_by_depth = dict(zip(depths, accuracies))\n",
    "\n",
    "print(accuracy_by_depth)\n",
    "\n",
    "df_accuracy_by_depth = pd.DataFrame.from_dict(\n",
    "        accuracy_by_depth, orient='index', columns=['training', 'testing']\n",
    ")\n",
    "\n",
    "df_accuracy_by_depth.head(n=20)\n",
    "        "
   ]
  },
  {
   "cell_type": "markdown",
   "metadata": {},
   "source": [
    "##### Plotting the depths and accuracies neatly\n",
    "4. Now we can plot it\n",
    "5. We use a custom set of ticks and a grid to show the exact depths we trained at. "
   ]
  },
  {
   "cell_type": "code",
   "execution_count": 27,
   "metadata": {},
   "outputs": [
    {
     "data": {
      "text/plain": [
       "<Axes: title={'center': 'Testing and Training Accuracy by Depth'}, xlabel='depth', ylabel='accuracy'>"
      ]
     },
     "execution_count": 27,
     "metadata": {},
     "output_type": "execute_result"
    },
    {
     "data": {
      "image/png": "[encoded data removed]",
      "text/plain": [
       "<Figure size 640x480 with 1 Axes>"
      ]
     },
     "metadata": {},
     "output_type": "display_data"
    }
   ],
   "source": [
    "df_accuracy_by_depth.plot(\n",
    "        title='Testing and Training Accuracy by Depth',\n",
    "        xticks=depths, xlabel='depth', ylabel='accuracy', grid=True\n",
    ")"
   ]
  },
  {
   "cell_type": "markdown",
   "metadata": {},
   "source": [
    "##### Findings\n",
    "1. We find that as the depths increases our training accuracy increases but our testing accuracy decreases. \n",
    "2. It seems that the optimal depth for this model is between 2 and 4. \n",
    "3. More tuning and preprocessing may be needed. "
   ]
  },
  {
   "cell_type": "markdown",
   "metadata": {},
   "source": [
    "### 3. \n",
    "#### K-Nearest neighbor classifier\n",
    "\n",
    "##### Training our model and collecting accuracy"
   ]
  },
  {
   "cell_type": "code",
   "execution_count": 28,
   "metadata": {},
   "outputs": [
    {
     "name": "stdout",
     "output_type": "stream",
     "text": [
      "euclidean\n",
      "1\n",
      "5\n",
      "10\n",
      "15\n",
      "20\n",
      "25\n",
      "cosine\n",
      "1\n",
      "5\n",
      "10\n",
      "15\n",
      "20\n",
      "25\n"
     ]
    }
   ],
   "source": [
    "from sklearn.neighbors import KNeighborsClassifier\n",
    "\n",
    "k_values = [1, 5, 10, 15, 20, 25]\n",
    "distance_types = ['euclidean', 'cosine']\n",
    "\n",
    "accuracies_euclid = []\n",
    "accuracies_cosine = []\n",
    "\n",
    "# A cool way to pick the correct list in our for loops when saving accuracies\n",
    "map_distance_to_list = {\n",
    "        'euclidean': accuracies_euclid,\n",
    "        'cosine': accuracies_cosine\n",
    "}\n",
    "\n",
    "for distance_type in distance_types:\n",
    "        print(distance_type)\n",
    "        for k_value in k_values:\n",
    "                print(k_value)\n",
    "                knn_classfier = KNeighborsClassifier(\n",
    "                        n_neighbors=k_value, metric=distance_type\n",
    "                )\n",
    "                \n",
    "                fitted_model = knn_classfier.fit(train_features, train_labels)\n",
    "                \n",
    "                train_accuracy = fitted_model.score(\n",
    "                        train_features, train_labels\n",
    "                )\n",
    "                \n",
    "                test_accuracy = fitted_model.score(test_features, test_labels)\n",
    "                \n",
    "                map_distance_to_list[distance_type].append(\n",
    "                        (train_accuracy, test_accuracy)\n",
    "                )\n",
    "                \n"
   ]
  },
  {
   "cell_type": "markdown",
   "metadata": {},
   "source": [
    "##### Transform the dictionaries into dataframes"
   ]
  },
  {
   "cell_type": "code",
   "execution_count": 29,
   "metadata": {},
   "outputs": [
    {
     "data": {
      "text/html": [
       "<div>\n",
       "<style scoped>\n",
       "    .dataframe tbody tr th:only-of-type {\n",
       "        vertical-align: middle;\n",
       "    }\n",
       "\n",
       "    .dataframe tbody tr th {\n",
       "        vertical-align: top;\n",
       "    }\n",
       "\n",
       "    .dataframe thead th {\n",
       "        text-align: right;\n",
       "    }\n",
       "</style>\n",
       "<table border=\"1\" class=\"dataframe\">\n",
       "  <thead>\n",
       "    <tr style=\"text-align: right;\">\n",
       "      <th></th>\n",
       "      <th>training</th>\n",
       "      <th>testing</th>\n",
       "    </tr>\n",
       "  </thead>\n",
       "  <tbody>\n",
       "    <tr>\n",
       "      <th>1</th>\n",
       "      <td>1.000000</td>\n",
       "      <td>0.685833</td>\n",
       "    </tr>\n",
       "    <tr>\n",
       "      <th>5</th>\n",
       "      <td>0.816917</td>\n",
       "      <td>0.744500</td>\n",
       "    </tr>\n",
       "    <tr>\n",
       "      <th>10</th>\n",
       "      <td>0.796708</td>\n",
       "      <td>0.772667</td>\n",
       "    </tr>\n",
       "    <tr>\n",
       "      <th>15</th>\n",
       "      <td>0.790333</td>\n",
       "      <td>0.766667</td>\n",
       "    </tr>\n",
       "    <tr>\n",
       "      <th>20</th>\n",
       "      <td>0.788417</td>\n",
       "      <td>0.772333</td>\n",
       "    </tr>\n",
       "    <tr>\n",
       "      <th>25</th>\n",
       "      <td>0.786583</td>\n",
       "      <td>0.768833</td>\n",
       "    </tr>\n",
       "  </tbody>\n",
       "</table>\n",
       "</div>"
      ],
      "text/plain": [
       "    training   testing\n",
       "1   1.000000  0.685833\n",
       "5   0.816917  0.744500\n",
       "10  0.796708  0.772667\n",
       "15  0.790333  0.766667\n",
       "20  0.788417  0.772333\n",
       "25  0.786583  0.768833"
      ]
     },
     "execution_count": 29,
     "metadata": {},
     "output_type": "execute_result"
    }
   ],
   "source": [
    "accuracy_by_depth_euclid = dict(zip(k_values, accuracies_euclid))\n",
    "df_accuracy_by_depth_euclid = pd.DataFrame().from_dict(\n",
    "        accuracy_by_depth_euclid,\n",
    "        orient='index', columns=['training', 'testing']\n",
    ")\n",
    "\n",
    "df_accuracy_by_depth_euclid\n"
   ]
  },
  {
   "cell_type": "code",
   "execution_count": 30,
   "metadata": {},
   "outputs": [
    {
     "data": {
      "text/html": [
       "<div>\n",
       "<style scoped>\n",
       "    .dataframe tbody tr th:only-of-type {\n",
       "        vertical-align: middle;\n",
       "    }\n",
       "\n",
       "    .dataframe tbody tr th {\n",
       "        vertical-align: top;\n",
       "    }\n",
       "\n",
       "    .dataframe thead th {\n",
       "        text-align: right;\n",
       "    }\n",
       "</style>\n",
       "<table border=\"1\" class=\"dataframe\">\n",
       "  <thead>\n",
       "    <tr style=\"text-align: right;\">\n",
       "      <th></th>\n",
       "      <th>training</th>\n",
       "      <th>testing</th>\n",
       "    </tr>\n",
       "  </thead>\n",
       "  <tbody>\n",
       "    <tr>\n",
       "      <th>1</th>\n",
       "      <td>1.000000</td>\n",
       "      <td>0.685667</td>\n",
       "    </tr>\n",
       "    <tr>\n",
       "      <th>5</th>\n",
       "      <td>0.819250</td>\n",
       "      <td>0.747333</td>\n",
       "    </tr>\n",
       "    <tr>\n",
       "      <th>10</th>\n",
       "      <td>0.796458</td>\n",
       "      <td>0.774667</td>\n",
       "    </tr>\n",
       "    <tr>\n",
       "      <th>15</th>\n",
       "      <td>0.794583</td>\n",
       "      <td>0.766500</td>\n",
       "    </tr>\n",
       "    <tr>\n",
       "      <th>20</th>\n",
       "      <td>0.789250</td>\n",
       "      <td>0.768833</td>\n",
       "    </tr>\n",
       "    <tr>\n",
       "      <th>25</th>\n",
       "      <td>0.788875</td>\n",
       "      <td>0.770667</td>\n",
       "    </tr>\n",
       "  </tbody>\n",
       "</table>\n",
       "</div>"
      ],
      "text/plain": [
       "    training   testing\n",
       "1   1.000000  0.685667\n",
       "5   0.819250  0.747333\n",
       "10  0.796458  0.774667\n",
       "15  0.794583  0.766500\n",
       "20  0.789250  0.768833\n",
       "25  0.788875  0.770667"
      ]
     },
     "execution_count": 30,
     "metadata": {},
     "output_type": "execute_result"
    }
   ],
   "source": [
    "accuracy_by_depth_cosine = dict(zip(k_values, accuracies_cosine))\n",
    "df_accuracy_by_depth_cosine = pd.DataFrame().from_dict(\n",
    "        accuracy_by_depth_cosine,\n",
    "        orient='index', columns=['training', 'testing']\n",
    ")\n",
    "\n",
    "df_accuracy_by_depth_cosine"
   ]
  },
  {
   "cell_type": "markdown",
   "metadata": {},
   "source": [
    "##### Plotting our accuracies for both distance approximations."
   ]
  },
  {
   "cell_type": "code",
   "execution_count": 31,
   "metadata": {},
   "outputs": [
    {
     "data": {
      "text/plain": [
       "<Axes: title={'center': 'KNN Testing and Training Accuracy by K Value using Euclidean Distance'}, xlabel='K Value', ylabel='accuracy'>"
      ]
     },
     "execution_count": 31,
     "metadata": {},
     "output_type": "execute_result"
    },
    {
     "data": {
      "image/png": "[encoded data removed]",
      "text/plain": [
       "<Figure size 640x480 with 1 Axes>"
      ]
     },
     "metadata": {},
     "output_type": "display_data"
    }
   ],
   "source": [
    "df_accuracy_by_depth_euclid.plot(\n",
    "        title='KNN Testing and Training Accuracy by K Value using Euclidean Distance',\n",
    "        xticks=k_values, xlabel='K Value', ylabel='accuracy', grid=True\n",
    ")"
   ]
  },
  {
   "cell_type": "code",
   "execution_count": 32,
   "metadata": {},
   "outputs": [
    {
     "data": {
      "text/plain": [
       "<Axes: title={'center': 'KNN Testing and Training Accuracy by K Value using Cosine Distance'}, xlabel='K Value', ylabel='accuracy'>"
      ]
     },
     "execution_count": 32,
     "metadata": {},
     "output_type": "execute_result"
    },
    {
     "data": {
      "image/png": "[encoded data removed]",
      "text/plain": [
       "<Figure size 640x480 with 1 Axes>"
      ]
     },
     "metadata": {},
     "output_type": "display_data"
    }
   ],
   "source": [
    "df_accuracy_by_depth_cosine.plot(\n",
    "        title='KNN Testing and Training Accuracy by K Value using Cosine Distance',\n",
    "        xticks=k_values, xlabel='K Value', ylabel='accuracy', grid=True\n",
    ")"
   ]
  },
  {
   "cell_type": "markdown",
   "metadata": {},
   "source": [
    "### 4.\n",
    "#### How can we improve the testing accuracy. \n",
    "1. The best accuracy was attained when using 20-25 value of K\n",
    "2. Our data is largely unprocessed\n",
    "   1. This could mean that some data processing could lead to better results. \n",
    "3. Let's try to scale first. "
   ]
  },
  {
   "cell_type": "code",
   "execution_count": 33,
   "metadata": {},
   "outputs": [],
   "source": [
    "from sklearn.preprocessing import StandardScaler\n",
    "\n",
    "# selected_cols = [df_default_credit.columns[i] for i in [1, 5] + list(range(12, 24))]\n",
    "\n",
    "scaler = StandardScaler()\n",
    "train_features_scaled = scaler.fit_transform(train_features)\n",
    "test_features_scaled = scaler.fit_transform(test_features)\n",
    "\n",
    "df_default_credit.head(10)\n",
    "\n",
    "\n",
    "knn_classfier = KNeighborsClassifier(\n",
    "        n_neighbors=k_value, metric=distance_type\n",
    ")\n",
    "\n",
    "fitted_model = knn_classfier.fit(train_features_scaled, train_labels)\n",
    "\n",
    "train_accuracy = fitted_model.score(\n",
    "        train_features_scaled, train_labels\n",
    ")\n",
    "\n",
    "\n",
    "\n",
    "\n"
   ]
  },
  {
   "cell_type": "markdown",
   "metadata": {},
   "source": [
    "##### We get a testing accuracy of 0.80 which is a bit higher than the highest accuracy we achieved before. \n",
    "\n",
    "1. Other things we could try in the future. \n",
    "   1. Principal Component Analysis\n",
    "   2. Experiment with different train-test ratios.\n",
    "   3. Remove unnecessary columns"
   ]
  },
  {
   "cell_type": "code",
   "execution_count": 34,
   "metadata": {},
   "outputs": [
    {
     "name": "stdout",
     "output_type": "stream",
     "text": [
      "Training Accuracy:  0.8218333333333333\n",
      "Testing Accuracy:  0.8055\n"
     ]
    }
   ],
   "source": [
    "test_accuracy = fitted_model.score(test_features_scaled, test_labels)\n",
    "train_accuracy = fitted_model.score(train_features_scaled, train_labels)\n",
    "print(\"Training Accuracy: \", train_accuracy)\n",
    "print(\"Testing Accuracy: \", test_accuracy)"
   ]
  },
  {
   "cell_type": "markdown",
   "metadata": {},
   "source": []
  },
  {
   "cell_type": "code",
   "execution_count": null,
   "metadata": {},
   "outputs": [],
   "source": []
  }
 ],
 "metadata": {
  "kernelspec": {
   "display_name": ".venv",
   "language": "python",
   "name": "python3"
  },
  "language_info": {
   "codemirror_mode": {
    "name": "ipython",
    "version": 3
   },
   "file_extension": ".py",
   "mimetype": "text/x-python",
   "name": "python",
   "nbconvert_exporter": "python",
   "pygments_lexer": "ipython3",
   "version": "3.10.12"
  },
  "orig_nbformat": 4
 },
 "nbformat": 4,
 "nbformat_minor": 2
}
