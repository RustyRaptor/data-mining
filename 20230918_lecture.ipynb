{
 "cells": [
  {
   "cell_type": "markdown",
   "metadata": {},
   "source": [
    "# Lecture Notes\n",
    "\n",
    "## Bayesian Classifiers\n",
    "1. Bayesian Theorem for classification probability  \n",
    "   1. $P(Y|X) = \\frac{P(X|Y)\\times P(Y)}{P(X)}$\n",
    "2. Bayesian Classifier\n",
    "   1. For continuous values we discretize them into bins first. \n",
    "\n",
    "## Logistic Regression\n",
    "1. Generative classifiers\n",
    "   1. Like bayesian classifiers\n",
    "2. Discriminative classifiers\n",
    "   1. Not computing propability\n",
    "   2. such as kNN, Logistic Regression, SVM\n",
    "3. "
   ]
  },
  {
   "cell_type": "markdown",
   "metadata": {},
   "source": []
  }
 ],
 "metadata": {
  "kernelspec": {
   "display_name": ".venv",
   "language": "python",
   "name": "python3"
  },
  "language_info": {
   "name": "python",
   "version": "3.8.10"
  },
  "orig_nbformat": 4
 },
 "nbformat": 4,
 "nbformat_minor": 2
}
