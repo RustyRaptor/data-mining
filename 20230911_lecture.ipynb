{
 "cells": [
  {
   "cell_type": "markdown",
   "metadata": {},
   "source": [
    "# Lecture Notes\n",
    "\n",
    "## Proximity \n",
    "1. Dissimilatity (distance) \n",
    "2. Similarity\n",
    "   1. Nominal and Ordinal vs Interval/Ratio\n",
    "      1. Nominal\n",
    "         1. Categories/Bools\n",
    "      2. Ordinal\n",
    "         1. Ranking or order\n",
    "            1. You need to calculate $\\frac{|p-q|}{(n-1)}$ for dissimilarity\n",
    "               1. p and q are the ranking of each one\n",
    "               2. n is the number of rankings\n",
    "            2. Similarity is similar but subtract from 1\n",
    "      3. Interval Ratio\n",
    "         1. $d = |p-q|$ for dissimilarity\n",
    "         2. For similarity: negate the dissimilarity\n",
    "3. Euclidean Distance\n",
    "4. Minkowski Distance\n",
    "   1. $(\\sum_{k=1}^{n} |x_k - y_k|^r)^{1/r}$\n",
    "5. Hamming Distance\n",
    "   1. If the two strings are equal length\n",
    "   2. Count number of different symbols at positions\n",
    "6. "
   ]
  }
 ],
 "metadata": {
  "kernelspec": {
   "display_name": ".venv",
   "language": "python",
   "name": "python3"
  },
  "language_info": {
   "name": "python",
   "version": "3.8.10"
  },
  "orig_nbformat": 4
 },
 "nbformat": 4,
 "nbformat_minor": 2
}
