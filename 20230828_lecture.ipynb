{
 "cells": [
  {
   "cell_type": "markdown",
   "metadata": {},
   "source": [
    "# Lecture Notes\n",
    "## Parallel Coordinates\n",
    "1. Can be used to see concentration and mixing of data labels to determine separation. \n",
    "\n",
    "## Aggregation\n",
    "1. Combining labels or features to reduce complexity. \n",
    "\n",
    "## Sampling\n",
    "1. Data reduction \n",
    "2. Taking a sample instad of processing the whole dataset. \n",
    "3. Effective sample\n",
    "   1. Represenative\n",
    "4. Types\n",
    "   1. SImple random sampling\n",
    "      1. Sampling without replacement\n",
    "         1. As each item is selected it is removed and not returned. \n",
    "      2. With replacement\n",
    "         1. We take and then place back\n",
    "   2. Stratified Sampling\n",
    "      1. Split the data into partitions\n",
    "      2. draw from each partition\n",
    "      3. Used when there is a great imbalance of classes. \n",
    "         1. But that's not always what you want in that case. \n",
    "## Curse of dimensionality\n",
    "1. Increasing dimensionality means you need more datapoints to cover more cases and ranges. \n",
    "2. Density and distance between points is impoerant. \n",
    "\n",
    "## Dimensionality Reduction\n",
    "1. Purpose\n",
    "   1. Avoid curse of dimensionality\n",
    "   2. Reduce compute requirements\n",
    "   3. Visualization less messy\n",
    "   4. Eliminate noise and useless data\n",
    "2. Techniques\n",
    "   1. PCA\n",
    "      1. Principle Component Analysis\n",
    "      2. Project data in various combinations of dimensions to find which ones produce the most variation. \n",
    "      3. use different functions to draw lines and curves to see which one projects the most variation. \n",
    "      4. \n",
    "   2. SVD\n",
    "      1. Singular Value Decomposition\n",
    "3. Feature Subset Selection\n",
    "   1. Redundant Features\n",
    "   2. Irrelevant features\n",
    "\n",
    "## Feature Creation\n",
    "1. Create new attributes by processing existing ones. \n",
    "\n",
    "## Mapping to new space\n",
    "1. Map the data to a new dimensional space. \n",
    "2. Discretization\n",
    "   1. Turn continuous into discrete value by chopping it up and limiting. \n",
    "3. Binarization\n",
    "   1. Turns categories or continuous values into binary values by creating multiple boolean features. \n",
    "   2. Useful for binary tree classifier. \n",
    "\n",
    "## Attribute transformation\n",
    "1. Normalization\n",
    "2. standardization\n",
    "3. \n"
   ]
  },
  {
   "cell_type": "markdown",
   "metadata": {},
   "source": []
  },
  {
   "cell_type": "markdown",
   "metadata": {},
   "source": []
  },
  {
   "cell_type": "markdown",
   "metadata": {},
   "source": []
  }
 ],
 "metadata": {
  "kernelspec": {
   "display_name": ".venv",
   "language": "python",
   "name": "python3"
  },
  "language_info": {
   "name": "python",
   "version": "3.8.10"
  },
  "orig_nbformat": 4
 },
 "nbformat": 4,
 "nbformat_minor": 2
}
