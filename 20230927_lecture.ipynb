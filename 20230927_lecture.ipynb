{
 "cells": [
  {
   "cell_type": "markdown",
   "metadata": {},
   "source": [
    "# Lecture Notes\n",
    "\n",
    "## Class Imbalance problem\n",
    "\n",
    "\n",
    "### Accuracy\n",
    "1. Can be misleading based on skewed number of class examples. \n",
    "2. Precision\n",
    "   1. $TP / (TP+FP)$\n",
    "3. Recall\n",
    "   1. $TP / (TP+FN)$\n",
    "4. F-Measure\n",
    "   1. $2rp / (r + p)$\n",
    "5. Specificity\n",
    "   1. TN Rate = $TN / (TN+FP)$\n",
    "6. FP Rate =$ FP / TN + FP = 1 - specificity$\n",
    "7. FN Rate = $FN / FN+TP = 1 - sensitivity$\n",
    "8. Power = $Sensitivity = 1 - FN Rate$\n",
    "\n",
    "### ROC Curve\n",
    "1. TPR by FPR curve\n",
    "\n",
    "## Support Vector Machines\n",
    "\n",
    "1. Dot product and vector addition is used. \n",
    "2. Hyperplanes\n",
    "3. Normal of a plane\n",
    "   1. Vector that is perpendicular to the surface. \n",
    "4. \n"
   ]
  },
  {
   "cell_type": "markdown",
   "metadata": {},
   "source": []
  }
 ],
 "metadata": {
  "kernelspec": {
   "display_name": ".venv",
   "language": "python",
   "name": "python3"
  },
  "language_info": {
   "name": "python",
   "version": "3.8.10"
  },
  "orig_nbformat": 4
 },
 "nbformat": 4,
 "nbformat_minor": 2
}
