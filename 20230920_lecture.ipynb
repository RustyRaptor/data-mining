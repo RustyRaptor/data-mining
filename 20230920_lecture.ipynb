{
 "cells": [
  {
   "cell_type": "markdown",
   "metadata": {},
   "source": [
    "# Lecture Notes\n",
    "\n",
    "## Logistic Regression (cont)\n",
    "\n",
    "## Learning Model Params\n",
    "1. MLE (Maximum Likelihood Estimation)\n",
    "\n",
    "## ANN (Artifician Neural Network)\n",
    "1. Learning\n",
    "   1. next = prev + lr(label - predicted)*feature\n",
    "   2. Updating based on error\n",
    "   3. e=0 no update needed for the weight. \n",
    "   4. "
   ]
  },
  {
   "cell_type": "markdown",
   "metadata": {},
   "source": []
  }
 ],
 "metadata": {
  "kernelspec": {
   "display_name": ".venv",
   "language": "python",
   "name": "python3"
  },
  "language_info": {
   "name": "python",
   "version": "3.8.10"
  },
  "orig_nbformat": 4
 },
 "nbformat": 4,
 "nbformat_minor": 2
}
